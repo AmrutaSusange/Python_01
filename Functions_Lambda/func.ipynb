{
 "cells": [
  {
   "cell_type": "code",
   "execution_count": 1,
   "metadata": {},
   "outputs": [],
   "source": [
    "def fun1(a,b):\n",
    "    return a+b"
   ]
  },
  {
   "cell_type": "code",
   "execution_count": 2,
   "metadata": {},
   "outputs": [
    {
     "data": {
      "text/plain": [
       "77"
      ]
     },
     "execution_count": 2,
     "metadata": {},
     "output_type": "execute_result"
    }
   ],
   "source": [
    "fun1(54,23)"
   ]
  },
  {
   "cell_type": "code",
   "execution_count": 8,
   "metadata": {},
   "outputs": [
    {
     "data": {
      "text/plain": [
       "[42, 78, 78, 90, 64, 68, 24, 4]"
      ]
     },
     "execution_count": 8,
     "metadata": {},
     "output_type": "execute_result"
    }
   ],
   "source": [
    "def check_even(elist):\n",
    " even = []\n",
    " for num in elist:\n",
    "  if num % 2 == 0 :\n",
    "   even.append(num)\n",
    "  else:\n",
    "   pass\n",
    " return even\n",
    "check_even([42,78,78,90,87,3,64,68,21,24,4])"
   ]
  },
  {
   "cell_type": "code",
   "execution_count": 10,
   "metadata": {},
   "outputs": [
    {
     "data": {
      "text/plain": [
       "[23, 7, 93, 1, 91, 75]"
      ]
     },
     "execution_count": 10,
     "metadata": {},
     "output_type": "execute_result"
    }
   ],
   "source": [
    "def checkodd(olist):\n",
    "    odd=[]\n",
    "    for ele in olist:\n",
    "        if ele % 2 == 1:\n",
    "            odd.append(ele)\n",
    "        else :\n",
    "            pass\n",
    "    return odd\n",
    "checkodd([23,54,78,6,7,93,1,8,91,75])"
   ]
  },
  {
   "cell_type": "code",
   "execution_count": 11,
   "metadata": {},
   "outputs": [
    {
     "data": {
      "text/plain": [
       "135"
      ]
     },
     "execution_count": 11,
     "metadata": {},
     "output_type": "execute_result"
    }
   ],
   "source": [
    "# variable number of arguments(dynamic arguents)\n",
    "#(*args)\n",
    "\n",
    "def check(*b):\n",
    "    return sum(b)\n",
    "check(30,60,45) # it can take any number of arguments\n"
   ]
  },
  {
   "cell_type": "code",
   "execution_count": 14,
   "metadata": {},
   "outputs": [],
   "source": [
    "# (**args) used for passing key value pairs\n",
    "def keyvalue(**a):\n",
    "    print('key value pairs :', a)"
   ]
  },
  {
   "cell_type": "code",
   "execution_count": 13,
   "metadata": {},
   "outputs": [
    {
     "name": "stdout",
     "output_type": "stream",
     "text": [
      "key value pairs : {'name': 'sudhir', 'age': 25, 'gender': 'male'}\n"
     ]
    }
   ],
   "source": [
    "keyvalue(name = 'sudhir', age = 25, gender = 'male')"
   ]
  },
  {
   "cell_type": "code",
   "execution_count": null,
   "metadata": {},
   "outputs": [],
   "source": []
  }
 ],
 "metadata": {
  "kernelspec": {
   "display_name": "Python 3",
   "language": "python",
   "name": "python3"
  },
  "language_info": {
   "codemirror_mode": {
    "name": "ipython",
    "version": 3
   },
   "file_extension": ".py",
   "mimetype": "text/x-python",
   "name": "python",
   "nbconvert_exporter": "python",
   "pygments_lexer": "ipython3",
   "version": "3.11.3"
  },
  "orig_nbformat": 4
 },
 "nbformat": 4,
 "nbformat_minor": 2
}
