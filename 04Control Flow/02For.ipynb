{
 "cells": [
  {
   "cell_type": "code",
   "execution_count": 1,
   "metadata": {},
   "outputs": [
    {
     "name": "stdout",
     "output_type": "stream",
     "text": [
      "longitude 9\n",
      "Finland 7\n",
      "Scottland 9\n"
     ]
    }
   ],
   "source": [
    "#counting words length\n",
    "\n",
    "box = [\"longitude\",\"Finland\",\"Scottland\"]\n",
    "\n",
    "for w in box:\n",
    "    print(w,len(w))"
   ]
  },
  {
   "cell_type": "code",
   "execution_count": 4,
   "metadata": {},
   "outputs": [],
   "source": [
    "#doubt\n",
    "users = {\"Radhika\" : \"Active\", \"Ram\" : \"Inactive\", \"Raju\" : \"Active\"}\n",
    "\n",
    "for user,status in users.copy().items():\n",
    "    if status == \"Inactive\":\n",
    "        del users[user]\n",
    "        \n",
    "active_users = {}\n",
    "for user,status in users.items():\n",
    "    if status == \"Active\":\n",
    "        active_users[user] = status\n",
    "\n"
   ]
  },
  {
   "cell_type": "code",
   "execution_count": 5,
   "metadata": {},
   "outputs": [
    {
     "data": {
      "text/plain": [
       "{'Radhika': 'Active', 'Raju': 'Active'}"
      ]
     },
     "execution_count": 5,
     "metadata": {},
     "output_type": "execute_result"
    }
   ],
   "source": [
    "users"
   ]
  },
  {
   "cell_type": "code",
   "execution_count": null,
   "metadata": {},
   "outputs": [],
   "source": []
  }
 ],
 "metadata": {
  "kernelspec": {
   "display_name": "Python 3",
   "language": "python",
   "name": "python3"
  },
  "language_info": {
   "codemirror_mode": {
    "name": "ipython",
    "version": 3
   },
   "file_extension": ".py",
   "mimetype": "text/x-python",
   "name": "python",
   "nbconvert_exporter": "python",
   "pygments_lexer": "ipython3",
   "version": "3.11.3"
  },
  "orig_nbformat": 4
 },
 "nbformat": 4,
 "nbformat_minor": 2
}
