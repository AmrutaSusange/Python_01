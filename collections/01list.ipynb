{
 "cells": [
  {
   "cell_type": "code",
   "execution_count": null,
   "metadata": {},
   "outputs": [],
   "source": [
    "# List\n",
    "# mutable, duplication allowd, heterogenous, indexing is present\n",
    "# left to right (0 - -1) positive index\n",
    "# right to left (-1 - 0) negative index"
   ]
  },
  {
   "cell_type": "code",
   "execution_count": 1,
   "metadata": {},
   "outputs": [
    {
     "data": {
      "text/plain": [
       "list"
      ]
     },
     "execution_count": 1,
     "metadata": {},
     "output_type": "execute_result"
    }
   ],
   "source": [
    "ls = []\n",
    "type(ls)"
   ]
  },
  {
   "cell_type": "code",
   "execution_count": 6,
   "metadata": {},
   "outputs": [
    {
     "data": {
      "text/plain": [
       "['Finland']"
      ]
     },
     "execution_count": 6,
     "metadata": {},
     "output_type": "execute_result"
    }
   ],
   "source": [
    "# Slicing\n",
    "cnty = ['Scotland', 'Norway', 'Finland', 'Iceland', 'Switzerland', 'Greenland']\n",
    "\n",
    "cnty[2:4]\n",
    "cnty[-4:-3] # [min : max]"
   ]
  },
  {
   "cell_type": "code",
   "execution_count": 9,
   "metadata": {},
   "outputs": [
    {
     "data": {
      "text/plain": [
       "['rose', 'jasmine', 'tulip', 'royal', 'lavender', 'lily', 'hibiscus', 'lotus']"
      ]
     },
     "execution_count": 9,
     "metadata": {},
     "output_type": "execute_result"
    }
   ],
   "source": [
    "# Updating values(using index we can update values)\n",
    "flw = ['rose','jasmine','tulip','mogra','lavender','lily','hibiscus','lotus']\n",
    "\n",
    "flw[3] ='royal'\n",
    "flw\n"
   ]
  },
  {
   "cell_type": "code",
   "execution_count": 15,
   "metadata": {},
   "outputs": [
    {
     "name": "stdout",
     "output_type": "stream",
     "text": [
      "['rose', 'Blossom', 'Blossom', 'Blossom', 'Blossom', 'Blossom', 'jasmine', 'tulip', 'royal', 'lavender', 'lily', 'hibiscus', 'lotus', 'Prjakta', 'Prjakta', 'Prjakta', 'Prjakta', 'Prjakta', ('bottle', 'book'), 'Prjakta', ('bottle', 'book')]\n"
     ]
    }
   ],
   "source": [
    "# Inserting/append values to list\n",
    "# appned will add at end of the list\n",
    "\n",
    "flw.append('Prjakta')\n",
    "flw\n",
    "\n",
    "# For updating in between insert() takes 2 arguments\n",
    "flw.insert(1,'Blossom')\n",
    "flw\n",
    "\n",
    "# Can pass collection \n",
    "flw.append(('bottle','book'))\n",
    "flw\n",
    "print(flw)"
   ]
  },
  {
   "cell_type": "code",
   "execution_count": 16,
   "metadata": {},
   "outputs": [
    {
     "data": {
      "text/plain": [
       "3"
      ]
     },
     "execution_count": 16,
     "metadata": {},
     "output_type": "execute_result"
    }
   ],
   "source": [
    "month = ['jan','feb','mar']\n",
    "len(month)"
   ]
  },
  {
   "cell_type": "code",
   "execution_count": 18,
   "metadata": {},
   "outputs": [
    {
     "data": {
      "text/plain": [
       "['jan', 'feb', 'mar', 'april', 'may', 'april', 'may']"
      ]
     },
     "execution_count": 18,
     "metadata": {},
     "output_type": "execute_result"
    }
   ],
   "source": [
    "# extend will add more than one value to list\n",
    "new_month = ['april', 'may']\n",
    "month.extend(new_month)\n",
    "month"
   ]
  },
  {
   "cell_type": "code",
   "execution_count": 21,
   "metadata": {},
   "outputs": [
    {
     "data": {
      "text/plain": [
       "[87, 76, 56, 45, 12, 9, 8, 4]"
      ]
     },
     "execution_count": 21,
     "metadata": {},
     "output_type": "execute_result"
    }
   ],
   "source": [
    "# sort() (Ascending)\n",
    "# sort(reverse = True) descending\n",
    "\n",
    "lst = [76,12,56,8,9,4,45,87]\n",
    "lst.sort()\n",
    "lst\n",
    "\n",
    "lst.sort(reverse = True)\n",
    "lst"
   ]
  },
  {
   "cell_type": "code",
   "execution_count": 23,
   "metadata": {},
   "outputs": [
    {
     "data": {
      "text/plain": [
       "[4, 8, 9, 12, 45, 56, 76, 87]"
      ]
     },
     "execution_count": 23,
     "metadata": {},
     "output_type": "execute_result"
    }
   ],
   "source": [
    "# reverse() reverse the list\n",
    "lst.reverse()\n",
    "lst"
   ]
  },
  {
   "cell_type": "code",
   "execution_count": 24,
   "metadata": {},
   "outputs": [
    {
     "data": {
      "text/plain": [
       "['a', 'c', 'd', 'e', 'f', 'g']"
      ]
     },
     "execution_count": 24,
     "metadata": {},
     "output_type": "execute_result"
    }
   ],
   "source": [
    "# Removing values from List\n",
    "#01 remove() value based removal\n",
    "\n",
    "num = ['a','b','c','d','e','f','g']\n",
    "num.remove('b')\n",
    "num\n"
   ]
  },
  {
   "cell_type": "code",
   "execution_count": 26,
   "metadata": {},
   "outputs": [
    {
     "data": {
      "text/plain": [
       "'e'"
      ]
     },
     "execution_count": 26,
     "metadata": {},
     "output_type": "execute_result"
    }
   ],
   "source": [
    "#pop removes latest record and hold the value can be used on index\n",
    "num.pop()\n",
    "num.pop(3)\n"
   ]
  },
  {
   "cell_type": "code",
   "execution_count": 36,
   "metadata": {},
   "outputs": [
    {
     "data": {
      "text/plain": [
       "['a', 'c', 'd', 'k', 'l', 'y']"
      ]
     },
     "execution_count": 36,
     "metadata": {},
     "output_type": "execute_result"
    }
   ],
   "source": [
    "#del removes using inde and can empty the list\n",
    "num\n",
    "del num[3]\n",
    "num"
   ]
  },
  {
   "cell_type": "code",
   "execution_count": 38,
   "metadata": {},
   "outputs": [
    {
     "data": {
      "text/plain": [
       "['l', 'y']"
      ]
     },
     "execution_count": 38,
     "metadata": {},
     "output_type": "execute_result"
    }
   ],
   "source": [
    "del num[0:2]\n",
    "num"
   ]
  },
  {
   "cell_type": "code",
   "execution_count": 39,
   "metadata": {},
   "outputs": [
    {
     "data": {
      "text/plain": [
       "[]"
      ]
     },
     "execution_count": 39,
     "metadata": {},
     "output_type": "execute_result"
    }
   ],
   "source": [
    "# clear() values will be cleared out empty list appear\n",
    "\n",
    "num.clear()\n",
    "num"
   ]
  },
  {
   "cell_type": "code",
   "execution_count": 41,
   "metadata": {},
   "outputs": [
    {
     "name": "stdout",
     "output_type": "stream",
     "text": [
      "[1, 2, 3, 4, 5, 6]\n",
      "[1, 2, 3, 4, 5, 6]\n"
     ]
    }
   ],
   "source": [
    "# copy (1[]=2[] creates reference second list depneds on first and will update as per first)\n",
    "\n",
    "this = [1,2,3,4,5]\n",
    "that = this\n",
    "this.append(6)\n",
    "print(this)\n",
    "print(that)"
   ]
  },
  {
   "cell_type": "code",
   "execution_count": 43,
   "metadata": {},
   "outputs": [
    {
     "name": "stdout",
     "output_type": "stream",
     "text": [
      "[1, 2, 3, 4]\n",
      "[1, 2, 3, 4]\n",
      "[1, 2, 3, 4]\n",
      "[1, 2, 3, 4, 8]\n"
     ]
    }
   ],
   "source": [
    "#copy() this will take first copy but wont update further\n",
    "\n",
    "a = [1,2,3,4]\n",
    "b = a.copy()               # whayy not copy(a)\n",
    "print(a)\n",
    "print(b)\n",
    "\n",
    "b.append(8)\n",
    "print(a)\n",
    "print(b)"
   ]
  },
  {
   "cell_type": "code",
   "execution_count": null,
   "metadata": {},
   "outputs": [],
   "source": []
  },
  {
   "cell_type": "code",
   "execution_count": 45,
   "metadata": {},
   "outputs": [
    {
     "data": {
      "text/plain": [
       "2"
      ]
     },
     "execution_count": 45,
     "metadata": {},
     "output_type": "execute_result"
    }
   ],
   "source": [
    "#index to find the position of value\n",
    "month\n",
    "\n",
    "month.index('mar')\n"
   ]
  }
 ],
 "metadata": {
  "kernelspec": {
   "display_name": "Python 3",
   "language": "python",
   "name": "python3"
  },
  "language_info": {
   "codemirror_mode": {
    "name": "ipython",
    "version": 3
   },
   "file_extension": ".py",
   "mimetype": "text/x-python",
   "name": "python",
   "nbconvert_exporter": "python",
   "pygments_lexer": "ipython3",
   "version": "3.11.3"
  },
  "orig_nbformat": 4
 },
 "nbformat": 4,
 "nbformat_minor": 2
}
