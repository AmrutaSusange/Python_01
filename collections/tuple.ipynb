{
 "cells": [
  {
   "attachments": {},
   "cell_type": "markdown",
   "metadata": {},
   "source": [
    "#Tuple immutable only difference from list\n",
    "allows duplicate values, indexing, heterogenous only cant change values\n",
    "when we need constant values tuple() required\n",
    "# List               \n",
    "append (data changing functions work in list)\n",
    "insert\n",
    "extend\n",
    "remove\n",
    "pop()\n",
    "del\n",
    "clear()\n",
    "## these can be used by both tuple and list\n",
    "copy() \n",
    "sort()\n",
    "reverse()\n"
   ]
  },
  {
   "cell_type": "code",
   "execution_count": 1,
   "metadata": {},
   "outputs": [
    {
     "data": {
      "text/plain": [
       "(1, 2, 3, 4)"
      ]
     },
     "execution_count": 1,
     "metadata": {},
     "output_type": "execute_result"
    }
   ],
   "source": [
    "# slicing over indexes\n",
    "tup = (1,2,3,4,5)\n",
    "tup[0:4]\n"
   ]
  },
  {
   "cell_type": "code",
   "execution_count": 2,
   "metadata": {},
   "outputs": [
    {
     "name": "stdout",
     "output_type": "stream",
     "text": [
      "[1, 2, 3, 4, 5, 8]\n",
      "(1, 2, 3, 4, 5, 8)\n"
     ]
    }
   ],
   "source": [
    "#Inserting values to tuple\n",
    "#01 overting to list and back to tuple\n",
    "\n",
    "li = list(tup)\n",
    "li.append(8)\n",
    "tup = tuple(li)\n",
    "print(li)\n",
    "print(tup)"
   ]
  },
  {
   "cell_type": "code",
   "execution_count": 6,
   "metadata": {},
   "outputs": [
    {
     "name": "stdout",
     "output_type": "stream",
     "text": [
      "(1, 1, 1)\n",
      "(2, 2, 2)\n",
      "(2, 2, 2, 1, 1, 1)\n"
     ]
    }
   ],
   "source": [
    "# using concat(+) we can add new tuple with values\n",
    "\n",
    "t = (1,1,1)\n",
    "t0 = (2,2,2)\n",
    "t3 = t0 + t\n",
    "print(t)\n",
    "print(t0)\n",
    "print(t3)"
   ]
  },
  {
   "cell_type": "code",
   "execution_count": 4,
   "metadata": {},
   "outputs": [
    {
     "name": "stdout",
     "output_type": "stream",
     "text": [
      "apple\n",
      "banana\n",
      "cherry\n",
      "chiku\n",
      "lichi\n"
     ]
    }
   ],
   "source": [
    "# Looping thrugh tuple\n",
    "\n",
    "t1 = ('apple', 'banana','cherry','chiku','lichi')\n",
    "\n",
    "for item in t1:\n",
    "    print(item)\n",
    "      "
   ]
  },
  {
   "cell_type": "code",
   "execution_count": 5,
   "metadata": {},
   "outputs": [
    {
     "name": "stdout",
     "output_type": "stream",
     "text": [
      "yes apple is there\n"
     ]
    }
   ],
   "source": [
    "val = 'apple'\n",
    "if val in t1 :\n",
    "        print('yes apple is there')\n",
    "else:\n",
    "        print('no apple')"
   ]
  },
  {
   "cell_type": "code",
   "execution_count": null,
   "metadata": {},
   "outputs": [],
   "source": []
  }
 ],
 "metadata": {
  "kernelspec": {
   "display_name": "Python 3",
   "language": "python",
   "name": "python3"
  },
  "language_info": {
   "codemirror_mode": {
    "name": "ipython",
    "version": 3
   },
   "file_extension": ".py",
   "mimetype": "text/x-python",
   "name": "python",
   "nbconvert_exporter": "python",
   "pygments_lexer": "ipython3",
   "version": "3.11.3"
  },
  "orig_nbformat": 4
 },
 "nbformat": 4,
 "nbformat_minor": 2
}
